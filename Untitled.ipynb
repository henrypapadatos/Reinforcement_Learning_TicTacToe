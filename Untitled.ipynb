{
 "cells": [
  {
   "cell_type": "code",
   "execution_count": 1,
   "id": "d12814dc",
   "metadata": {},
   "outputs": [],
   "source": [
    "import numpy as np\n",
    "import random\n",
    "import matplotlib.pyplot as plt\n",
    "import itertools\n",
    "from tic_env import TictactoeEnv, OptimalPlayer\n",
    "import QLearning\n",
    "import Deep_QLearning\n",
    "import test_functions\n",
    "\n",
    "import importlib\n",
    "importlib.reload(QLearning)\n",
    "importlib.reload(Deep_QLearning)\n",
    "importlib.reload(test_functions)\n",
    "\n",
    "\n",
    "random.seed(10)\n",
    "env = TictactoeEnv()"
   ]
  },
  {
   "cell_type": "code",
   "execution_count": 2,
   "id": "3e1807e3",
   "metadata": {},
   "outputs": [
    {
     "name": "stderr",
     "output_type": "stream",
     "text": [
      "<>:50: SyntaxWarning: \"is not\" with a literal. Did you mean \"!=\"?\n",
      "<>:50: SyntaxWarning: \"is not\" with a literal. Did you mean \"!=\"?\n",
      "C:\\Users\\Usuario\\AppData\\Local\\Temp/ipykernel_84800/1397342036.py:50: SyntaxWarning: \"is not\" with a literal. Did you mean \"!=\"?\n",
      "  if not k%250 and k is not 0 :\n"
     ]
    },
    {
     "name": "stdout",
     "output_type": "stream",
     "text": [
      "testing now DQN with exploration level= 0.1\n",
      "epoch: 0\n",
      "epoch: 2000\n",
      "epoch: 4000\n"
     ]
    }
   ],
   "source": [
    "nb_play = 6000\n",
    "exploration_levels = [0.1]\n",
    "average_reward = []\n",
    "recap_rewards32 = []\n",
    "recap_Mopt32 = []\n",
    "recap_Mrand32 = []\n",
    "Turns = np.array(['X','O'])\n",
    "rewards=0\n",
    "Mopt=[]\n",
    "Mrand=[]\n",
    "for exploration_level in exploration_levels:\n",
    "    print(\"testing now DQN with exploration level=\", exploration_level)\n",
    "    DQN_player = Deep_QLearning.newDQN_Player(exploration_level= exploration_level)\n",
    "    for k in range(nb_play):\n",
    "        grid, _, __ = env.observe()\n",
    "\n",
    "        #switch the 1st player after every game.\n",
    "        current_turns = Turns[np.array([k%2, (k+1)%2])]\n",
    "        DQN_player.set_player(player=current_turns[0])\n",
    "        player_opt = OptimalPlayer(epsilon=0.5, player=current_turns[1]) \n",
    "\n",
    "        for j in range(9):\n",
    "            if env.current_player == player_opt.player:\n",
    "                move = player_opt.act(grid)\n",
    "            else:\n",
    "                Valid_move_flag, move, loss = DQN_player.act(grid, train_mode=True)\n",
    "            \n",
    "            #if the move played by our player is not available, \n",
    "            #the game is stopped and the reward=-1\n",
    "            if Valid_move_flag:\n",
    "                grid, end, winner = env.step(move, print_grid=False)     \n",
    "            else:\n",
    "                reward = -1\n",
    "                DQN_player.last_update(reward)\n",
    "                env.reset()\n",
    "                break\n",
    "            \n",
    "            if end:\n",
    "                if winner==DQN_player.player:\n",
    "                    reward = 1\n",
    "                elif winner==player_opt.player:\n",
    "                    reward = -1\n",
    "                else: \n",
    "                    reward = 0\n",
    "                DQN_player.last_update(reward)\n",
    "                env.reset()\n",
    "                break\n",
    "                \n",
    "        #every 250 games, compute Mrand and Mopt\n",
    "        if not k%250 and k is not 0 :\n",
    "            Mopt.append(test_functions.test_DQN_policy(DQN_player, expert_exploration_level=0))\n",
    "            Mrand.append(test_functions.test_DQN_policy(DQN_player, expert_exploration_level=1))\n",
    "            \n",
    "        if not k%2000:\n",
    "            print('epoch: '+str(k))\n",
    "    \n",
    "    recap_Mopt32.append(Mopt) \n",
    "    recap_Mrand32.append(Mrand) \n",
    "\n",
    "    Mopt=[]\n",
    "    Mrand=[]"
   ]
  },
  {
   "cell_type": "code",
   "execution_count": null,
   "id": "4a1247de",
   "metadata": {},
   "outputs": [],
   "source": [
    "# Plot the results\n",
    "f = plt.figure()\n",
    "f.set_figwidth(10)\n",
    "f.set_figheight(10)\n",
    "plt.style.use('fivethirtyeight')\n",
    "plt.title('Evolution of Mopt and Mrand during training for deep Q-Learning')\n",
    "\n",
    "colors = ['k','b', 'r', 'g', 'c', 'm', 'y']\n",
    "cc = itertools.cycle(colors)\n",
    "plot_lines = []\n",
    "\n",
    "x = np.arange(len(recap_Mopt32[0]))*250+250\n",
    "for Mopt, Mrand in zip(recap_Mopt32, recap_Mrand32):\n",
    "    #plt.hold(True)\n",
    "    c = next(cc)\n",
    "    l1, = plt.plot(x, Mopt, '-', color=c,linewidth=1)\n",
    "    l2, = plt.plot(x, Mrand, '--', color=c, linewidth=1)\n",
    "\n",
    "    plot_lines.append([l1, l2])\n",
    "\n",
    "legend1 = plt.legend(plot_lines[0], [\"Mopt\", \"Mrand\"], loc='lower right')\n",
    "legend2 = plt.legend([l[0] for l in plot_lines], exploration_levels, loc='upper left')\n",
    "plt.gca().add_artist(legend1)\n",
    "plt.gca().add_artist(legend2)\n",
    "\n",
    "plt.xlabel('Number of games')\n",
    "plt.ylabel('Average reward')\n",
    "plt.show()"
   ]
  }
 ],
 "metadata": {
  "kernelspec": {
   "display_name": "Python 3 (ipykernel)",
   "language": "python",
   "name": "python3"
  },
  "language_info": {
   "codemirror_mode": {
    "name": "ipython",
    "version": 3
   },
   "file_extension": ".py",
   "mimetype": "text/x-python",
   "name": "python",
   "nbconvert_exporter": "python",
   "pygments_lexer": "ipython3",
   "version": "3.9.7"
  }
 },
 "nbformat": 4,
 "nbformat_minor": 5
}
